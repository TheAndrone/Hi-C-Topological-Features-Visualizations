{
 "cells": [
  {
   "cell_type": "markdown",
   "id": "ccd1c0e2",
   "metadata": {},
   "source": [
    "## Imports\n"
   ]
  },
  {
   "cell_type": "code",
   "execution_count": 2,
   "id": "0f75184a",
   "metadata": {},
   "outputs": [],
   "source": [
    "from universal import UniversalDS, ChrData\n",
    "from topologicalFeatures import *\n",
    "from GOEAa import *\n",
    "from vizFileMaker import VisData"
   ]
  },
  {
   "cell_type": "markdown",
   "id": "4d36405f",
   "metadata": {},
   "source": [
    "## Create dataset object for Hi-C data"
   ]
  },
  {
   "cell_type": "code",
   "execution_count": 19,
   "id": "0e2d7fdc",
   "metadata": {},
   "outputs": [],
   "source": [
    "import sys\n",
    "import os\n",
    "from pathlib import Path\n",
    "from folderLocation import getLocalFolder\n",
    "\n",
    "SCRIPT_DIR = str(getLocalFolder())\n",
    "#LZPdir = Path(SCRIPT_DIR).parents[1] #goues up 2 directories\n",
    "#fn = str(os.path.join(LZPdir, \"Processed_Data\", \"Blood\", \"data-pvalue-5-fin.json\"))\n",
    "# commented out code works for .py files\n",
    "fn = SCRIPT_DIR\n",
    "LZPdir = fn[:fn.index(\"LZP\")] + \"LZP/\"\n",
    "\n",
    "fn = fn[:fn.index(\"LZP\")] + \"LZP/Processed_Data/Blood/data-pvalue-5-fin.json\"\n",
    "#found the path to the demo file in universal format\n",
    "\n",
    "U = UniversalDS(fn)"
   ]
  },
  {
   "cell_type": "markdown",
   "id": "7e960874",
   "metadata": {},
   "source": [
    "## Create chromosome object with filtered links\n",
    "Only links that are in at least minLinkTissueCount tissues and have all of these tissues - tissueMask (either list, str or int) - are added.\n",
    "chData is an object that stores the filtered sub-graph"
   ]
  },
  {
   "cell_type": "code",
   "execution_count": 13,
   "id": "bc4d7378",
   "metadata": {},
   "outputs": [],
   "source": [
    "chData = ChrData(U, ch=\"chr9\", minLinkTissueCount=2, tissueMask=[\"Mac1\", \"Mac2\"])\n",
    "links = chData.links"
   ]
  },
  {
   "cell_type": "markdown",
   "id": "b42634ea",
   "metadata": {},
   "source": [
    "## Getting summary for current chromosome\n"
   ]
  },
  {
   "cell_type": "code",
   "execution_count": 14,
   "id": "36c6b002",
   "metadata": {},
   "outputs": [
    {
     "name": "stdout",
     "output_type": "stream",
     "text": [
      "{'Chromosome': 'chr9', 'Nodes count': 2975, 'Link count': 4036, 'Giant component nodes': 295, 'Giant component links': 364, 'Link percentage in Giant component': 0.09018830525272548}\n"
     ]
    }
   ],
   "source": [
    "summary = chData.summarize()\n",
    "print(summary)"
   ]
  },
  {
   "cell_type": "markdown",
   "id": "f7d9e4c0",
   "metadata": {},
   "source": [
    "# Start calculating topological features\n",
    "## Calculate triangles"
   ]
  },
  {
   "cell_type": "code",
   "execution_count": 15,
   "id": "f7c83cc4",
   "metadata": {},
   "outputs": [
    {
     "name": "stdout",
     "output_type": "stream",
     "text": [
      "one of the 395 triangles found in this chr: (9034, 9038, 9062, 105727) \n",
      "[139694137, 139709892, 139934163, ['aCD4', 'EP', 'Ery', 'FoeT', 'Mac0', 'Mac1', 'Mac2', 'MK', 'nB', 'nCD4', 'nCD8', 'tCD4', 'tCD8']]\n"
     ]
    }
   ],
   "source": [
    "C = Cliques(chData, minC3TissueCount=3, tissueMask=0) \n",
    "#all filtered triangles will have at least 3 tissues of any type\n",
    "triangles = C.allCliques\n",
    "if (len(triangles)>0): \n",
    "    print(\"one of the {} triangles found in this chr: {} \".format(len(triangles), str(triangles[0])))\n",
    "    #now writing this triangle in loci and tissue list form to demonstrate how translation can be done, if necessary\n",
    "    tr = triangles[0]\n",
    "    t = [chData.segmentIndToMidpoint[tr[i]] for i in [0,1,2]]+[U.getTissueNameList(tr[3])]\n",
    "    print(t)\n"
   ]
  },
  {
   "cell_type": "markdown",
   "id": "65b13347",
   "metadata": {},
   "source": [
    "### Visualize these triangles"
   ]
  },
  {
   "cell_type": "code",
   "execution_count": 16,
   "id": "e9471e34",
   "metadata": {},
   "outputs": [],
   "source": [
    "bb = VisData(C, min_samples=20, eps=30000, DSName=\"demoResults/demoFileForVisualization.json\")\n",
    "#created VisData instance that will make a file for visualization for all chromosomes with the same filters as for C object calculated before\n",
    "#file demoFileForVisualization.sjon is created and can be used in cisualization"
   ]
  },
  {
   "cell_type": "markdown",
   "id": "38c24874",
   "metadata": {},
   "source": [
    "## Calculate bases"
   ]
  },
  {
   "cell_type": "markdown",
   "id": "40c161ef",
   "metadata": {},
   "source": [
    "### There are 2 types of bases - AND-bases and OR-bases\n",
    "#### Calculating both for all tissue types"
   ]
  },
  {
   "cell_type": "code",
   "execution_count": 17,
   "id": "038a4691",
   "metadata": {},
   "outputs": [
    {
     "name": "stdout",
     "output_type": "stream",
     "text": [
      "[[1970, 2038, 4], [1406, 1436, 22], [1067, 1101, 29], [1890, 1970, 18]]\n",
      "[[1406, 1436, 22], [1067, 1101, 29], [1890, 1970, 18], [5657, 5761, 5]]\n"
     ]
    }
   ],
   "source": [
    "Bor = Bases(chData)\n",
    "Bor.setBasesOr()\n",
    "\n",
    "Band = Bases(chData)\n",
    "Band.setBasesAnd()\n",
    "\n",
    "#now calculate those bases that are in at least 4 or 5 triangles\n",
    "BorBases4 = Bor.getDegreeNBases(4)\n",
    "#show some bases4 in tissue type Mac1\n",
    "print(BorBases4[\"Mac1\"][:4])\n",
    "#for each base ling endpoint indeces and the degree are shown\n",
    "\n",
    "BandBases4 = Band.getDegreeNBases(5)\n",
    "print(BandBases4[\"Mac1\"][:4])\n",
    "\n",
    "#get nodes that are in a base\n",
    "stru = Bor.getSegmentStructureInds(N=4, filename=\"demoResults/baseSegmentStructureDemo.json\")"
   ]
  },
  {
   "cell_type": "markdown",
   "id": "7a457890",
   "metadata": {},
   "source": [
    "# Do gene ontology enrichment analysis"
   ]
  },
  {
   "cell_type": "code",
   "execution_count": 20,
   "id": "c1db4dbb",
   "metadata": {},
   "outputs": [
    {
     "name": "stdout",
     "output_type": "stream",
     "text": [
      "ontologyData/go-basic.obo: fmt(1.2) rel(2022-10-07) 46,824 Terms\n"
     ]
    }
   ],
   "source": [
    "Biolog = GOEATool(\"ontologyData/go-basic.obo\", \"ontologyData/hg19_genes_w-go.txt\")\n",
    "# Give necessary data files from public databases"
   ]
  },
  {
   "cell_type": "code",
   "execution_count": 21,
   "id": "49bf0435",
   "metadata": {},
   "outputs": [
    {
     "name": "stdout",
     "output_type": "stream",
     "text": [
      "       47 READ: stu-tmp.tsv\n",
      "      126 READ: pop-tmp.tsv\n",
      "**WARNING: GO:0000060 NOT FOUND IN DAG\n",
      "**WARNING: GO:0000185 NOT FOUND IN DAG\n",
      "**WARNING: GO:0000186 NOT FOUND IN DAG\n",
      "**WARNING: GO:0000187 NOT FOUND IN DAG\n",
      "**WARNING: GO:0000188 NOT FOUND IN DAG\n",
      "**WARNING: GO:0001076 NOT FOUND IN DAG\n",
      "**WARNING: GO:0001190 NOT FOUND IN DAG\n",
      "**WARNING: GO:0001300 NOT FOUND IN DAG\n",
      "**WARNING: GO:0003256 NOT FOUND IN DAG\n",
      "**WARNING: GO:0004221 NOT FOUND IN DAG\n",
      "**WARNING: GO:0004716 NOT FOUND IN DAG\n",
      "**WARNING: GO:0004871 NOT FOUND IN DAG\n",
      "**WARNING: GO:0005057 NOT FOUND IN DAG\n",
      "**WARNING: GO:0005070 NOT FOUND IN DAG\n",
      "**WARNING: GO:0005072 NOT FOUND IN DAG\n",
      "**WARNING: GO:0005671 NOT FOUND IN DAG\n",
      "**WARNING: GO:0006184 NOT FOUND IN DAG\n",
      "**WARNING: GO:0006200 NOT FOUND IN DAG\n",
      "**WARNING: GO:0006927 NOT FOUND IN DAG\n",
      "**WARNING: GO:0006928 NOT FOUND IN DAG\n",
      "**WARNING: GO:0006987 NOT FOUND IN DAG\n",
      "**WARNING: GO:0007016 NOT FOUND IN DAG\n",
      "**WARNING: GO:0007257 NOT FOUND IN DAG\n",
      "**WARNING: GO:0008144 NOT FOUND IN DAG\n",
      "**WARNING: GO:0008565 NOT FOUND IN DAG\n",
      "**WARNING: GO:0018298 NOT FOUND IN DAG\n",
      "**WARNING: GO:0018350 NOT FOUND IN DAG\n",
      "**WARNING: GO:0030173 NOT FOUND IN DAG\n",
      "**WARNING: GO:0030176 NOT FOUND IN DAG\n",
      "**WARNING: GO:0030285 NOT FOUND IN DAG\n",
      "**WARNING: GO:0030819 NOT FOUND IN DAG\n",
      "**WARNING: GO:0031225 NOT FOUND IN DAG\n",
      "**WARNING: GO:0031226 NOT FOUND IN DAG\n",
      "**WARNING: GO:0031235 NOT FOUND IN DAG\n",
      "**WARNING: GO:0033158 NOT FOUND IN DAG\n",
      "**WARNING: GO:0033160 NOT FOUND IN DAG\n",
      "**WARNING: GO:0033577 NOT FOUND IN DAG\n",
      "**WARNING: GO:0034437 NOT FOUND IN DAG\n",
      "**WARNING: GO:0035409 NOT FOUND IN DAG\n",
      "**WARNING: GO:0035986 NOT FOUND IN DAG\n",
      "**WARNING: GO:0042993 NOT FOUND IN DAG\n",
      "**WARNING: GO:0045716 NOT FOUND IN DAG\n",
      "**WARNING: GO:0046658 NOT FOUND IN DAG\n",
      "**WARNING: GO:0048037 NOT FOUND IN DAG\n",
      "**WARNING: GO:0051270 NOT FOUND IN DAG\n",
      "**WARNING: GO:0051272 NOT FOUND IN DAG\n",
      "**WARNING: GO:0051436 NOT FOUND IN DAG\n",
      "**WARNING: GO:0051437 NOT FOUND IN DAG\n",
      "**WARNING: GO:0051439 NOT FOUND IN DAG\n",
      "**WARNING: GO:0055114 NOT FOUND IN DAG\n",
      "**WARNING: GO:0070022 NOT FOUND IN DAG\n",
      "**WARNING: GO:0071778 NOT FOUND IN DAG\n",
      "**WARNING: GO:0072369 NOT FOUND IN DAG\n",
      "**WARNING: GO:0090285 NOT FOUND IN DAG\n",
      "**WARNING: GO:2000326 NOT FOUND IN DAG\n",
      "HMS:0:00:00.017194   8,975 annotations READ: annos/chr9-annos.tsv \n",
      "711 IDs in loaded association branch, biological_process\n",
      "711 IDs in loaded association branch, biological_process\n",
      "\n",
      "Load  Ontology Enrichment Analysis ...\n",
      "Propagating term counts up: is_a\n",
      "100%    126 of    126 population items found in association\n",
      "0\n"
     ]
    }
   ],
   "source": [
    "countFound = Biolog.GOEA(stuObject=Bor, popObject=C)\n",
    "print(countFound)"
   ]
  },
  {
   "cell_type": "code",
   "execution_count": null,
   "id": "4ab0c029",
   "metadata": {},
   "outputs": [],
   "source": [
    "rez = []\n",
    "for ch in [\"chr6\", \"chr19\"]:\n",
    "    chData = ChrData(U, ch=ch)\n",
    "    C = Cliques(owner=chData, minC3TissueCount=2)\n",
    "    count = Biolog.GOEA(stuObject=C, popObject=chData) #how many found terms with pv<0.05\n",
    "    if count>0:\n",
    "        rez.extend([str(row) for row in Biolog.curResultSig])\n",
    "print (rez)\n",
    "    "
   ]
  },
  {
   "cell_type": "code",
   "execution_count": 23,
   "id": "85e4ac61",
   "metadata": {},
   "outputs": [],
   "source": [
    "import csv\n",
    "with open('demoResults/demoGOresult.tsv', 'w', newline='') as csvfile:\n",
    "    writer = csv.writer(csvfile, delimiter='\\t')\n",
    "    for row in rez:\n",
    "        writer.writerow(row.split('\\t'))"
   ]
  },
  {
   "cell_type": "code",
   "execution_count": 24,
   "id": "432be881",
   "metadata": {},
   "outputs": [
    {
     "name": "stdout",
     "output_type": "stream",
     "text": [
      "GO:0065004\tBP\te\tprotein-DNA complex assembly  \t62/651\t62/953\t2.97e-11\t6\t62\t1.69e-07\tASF1A, BRD2, CENPQ, HEY2, HIST1H1A, HIST1H1B, HIST1H1C, HIST1H1D, HIST1H1E, HIST1H1T, HIST1H2AA, HIST1H2AB, HIST1H2AC, HIST1H2AD, HIST1H2AE, HIST1H2AG, HIST1H2AH, HIST1H2AI, HIST1H2AJ, HIST1H2AK, HIST1H2AL, HIST1H2AM, HIST1H2BA, HIST1H2BB, HIST1H2BC, HIST1H2BD, HIST1H2BE, HIST1H2BF, HIST1H2BG, HIST1H2BH, HIST1H2BI, HIST1H2BJ, HIST1H2BK, HIST1H2BL, HIST1H2BM, HIST1H2BN, HIST1H2BO, HIST1H3A, HIST1H3B, HIST1H3C, HIST1H3D, HIST1H3E, HIST1H3F, HIST1H3G, HIST1H3H, HIST1H3I, HIST1H3J, HIST1H4A, HIST1H4B, HIST1H4C, HIST1H4D, HIST1H4E, HIST1H4F, HIST1H4G, HIST1H4H, HIST1H4I, HIST1H4J, HIST1H4K, HIST1H4L, SHPRH, TSPYL1, TSPYL4\n"
     ]
    }
   ],
   "source": [
    "print(rez[0])\n",
    "\n"
   ]
  }
 ],
 "metadata": {
  "kernelspec": {
   "display_name": "base",
   "language": "python",
   "name": "python3"
  },
  "language_info": {
   "codemirror_mode": {
    "name": "ipython",
    "version": 3
   },
   "file_extension": ".py",
   "mimetype": "text/x-python",
   "name": "python",
   "nbconvert_exporter": "python",
   "pygments_lexer": "ipython3",
   "version": "3.9.13 (main, Aug 25 2022, 23:51:50) [MSC v.1916 64 bit (AMD64)]"
  },
  "vscode": {
   "interpreter": {
    "hash": "ad2bdc8ecc057115af97d19610ffacc2b4e99fae6737bb82f5d7fb13d2f2c186"
   }
  }
 },
 "nbformat": 4,
 "nbformat_minor": 5
}
